{
 "cells": [
  {
   "cell_type": "markdown",
   "id": "04df634b-32ad-4745-bf63-686c9a92d6a1",
   "metadata": {},
   "source": [
    "<h2 style=\"text-align:center;font-size:200%;;\">Лабораторная работа № 1 </h2>"
   ]
  },
  {
   "cell_type": "markdown",
   "id": "3b5727aa-c4e6-45a2-80a6-c4b3761a41f0",
   "metadata": {},
   "source": [
    "<h3 style=\"text-align:center;font-size:200%;;\">Ход работы </h3>"
   ]
  },
  {
   "cell_type": "code",
   "execution_count": 1,
   "id": "f045c33d-9969-40fc-b7d2-b806e784e974",
   "metadata": {},
   "outputs": [],
   "source": [
    "# Import other modules not related to PySpark\n",
    "import os\n",
    "import sys\n",
    "import pandas as pd\n",
    "from pandas import DataFrame\n",
    "import numpy as np\n",
    "import matplotlib.pyplot as plt\n",
    "import matplotlib.ticker as mtick\n",
    "import matplotlib\n",
    "from mpl_toolkits.mplot3d import Axes3D\n",
    "import math\n",
    "from IPython.core.interactiveshell import InteractiveShell\n",
    "from datetime import *\n",
    "import statistics as stats\n",
    "# This helps auto print out the items without explixitly using 'print'\n",
    "InteractiveShell.ast_node_interactivity = \"all\" \n",
    "%matplotlib inline"
   ]
  },
  {
   "cell_type": "code",
   "execution_count": 2,
   "id": "77ba11e2-094a-4497-92ba-9dd61c664424",
   "metadata": {},
   "outputs": [
    {
     "name": "stdout",
     "output_type": "stream",
     "text": [
      "Data frame type: <class 'pyspark.sql.dataframe.DataFrame'>\n"
     ]
    }
   ],
   "source": [
    "# Import PySpark related modules\n",
    "import pyspark\n",
    "from pyspark.rdd import RDD\n",
    "from pyspark.sql import Row\n",
    "from pyspark.sql import DataFrame\n",
    "from pyspark.sql import SparkSession\n",
    "from pyspark.sql import SQLContext\n",
    "from pyspark.sql import functions\n",
    "from pyspark.sql.functions import lit, desc, col, size, array_contains\\\n",
    ", isnan, udf, hour, array_min, array_max, countDistinct\n",
    "from pyspark.sql.types import *\n",
    "\n",
    "MAX_MEMORY = '4G'\n",
    "# Initialize a spark session.\n",
    "conf = pyspark.SparkConf().setMaster(\"local[*]\") \\\n",
    "        .set('spark.executor.heartbeatInterval', 10000) \\\n",
    "        .set('spark.network.timeout', 10000) \\\n",
    "        .set(\"spark.core.connection.ack.wait.timeout\", \"3600\") \\\n",
    "        .set(\"spark.executor.memory\", MAX_MEMORY) \\\n",
    "        .set(\"spark.driver.memory\", MAX_MEMORY)\n",
    "def init_spark():\n",
    "    spark = SparkSession \\\n",
    "        .builder \\\n",
    "        .appName(\"Pyspark guide\") \\\n",
    "        .config(conf=conf) \\\n",
    "        .getOrCreate()\n",
    "    return spark\n",
    "\n",
    "spark = init_spark()\n",
    "\n",
    "path = 'date/wiki/small/'\n",
    "\n",
    "filename_data_item = path + 'item.csv'\n",
    "filename_data_item_aliase = path + 'item_aliases.csv'\n",
    "filename_data_page = path + 'page.csv'\n",
    "filename_data_property_aliase = path + 'property_aliases.csv'\n",
    "filename_data_property = path + 'property.csv'\n",
    "filename_data_statements = path + 'statements.csv'\n",
    "\n",
    "# Load the main data set into pyspark data frame \n",
    "df_item = spark.read.csv(filename_data_item, header=True, sep=',', inferSchema=True)\n",
    "df_item_aliase = spark.read.csv(filename_data_item_aliase, header=True, sep=',', inferSchema=True)\n",
    "df_page = spark.read.csv(filename_data_page, header=True, sep=',', inferSchema=True)\n",
    "df_property_aliase = spark.read.csv(filename_data_property_aliase, header=True, sep=',', inferSchema=True)\n",
    "df_property = spark.read.csv(filename_data_property, header=True, sep=',', inferSchema=True)\n",
    "df_statements = spark.read.csv(filename_data_statements, header=True, sep=',', inferSchema=True)\n",
    "\n",
    "print('Data frame type: ' + str(type(df_item)))"
   ]
  },
  {
   "cell_type": "markdown",
   "id": "ec1b393e-a114-417f-be1b-d295adfad779",
   "metadata": {},
   "source": [
    "# **Извлечение признаков** <a class=\"anchor\" id=\"2\"></a>"
   ]
  },
  {
   "cell_type": "code",
   "execution_count": 3,
   "id": "9498e4fa-9237-4072-8ce0-af0bbc827a20",
   "metadata": {},
   "outputs": [
    {
     "data": {
      "text/plain": [
       "['item_id', 'en_label', 'en_description']"
      ]
     },
     "execution_count": 3,
     "metadata": {},
     "output_type": "execute_result"
    },
    {
     "data": {
      "text/plain": [
       "['item_id', 'en_alias']"
      ]
     },
     "execution_count": 3,
     "metadata": {},
     "output_type": "execute_result"
    },
    {
     "data": {
      "text/plain": [
       "['page_id', 'item_id', 'title', 'views']"
      ]
     },
     "execution_count": 3,
     "metadata": {},
     "output_type": "execute_result"
    },
    {
     "data": {
      "text/plain": [
       "['property_id', 'en_alias']"
      ]
     },
     "execution_count": 3,
     "metadata": {},
     "output_type": "execute_result"
    },
    {
     "data": {
      "text/plain": [
       "['property_id', 'en_label', 'en_description']"
      ]
     },
     "execution_count": 3,
     "metadata": {},
     "output_type": "execute_result"
    },
    {
     "data": {
      "text/plain": [
       "['source_item_id', 'edge_property_id', 'target_item_id']"
      ]
     },
     "execution_count": 3,
     "metadata": {},
     "output_type": "execute_result"
    }
   ],
   "source": [
    "# Получение столбцов всех Датафреймов\n",
    "df_item.columns\n",
    "df_item_aliase.columns\n",
    "df_page.columns\n",
    "df_property_aliase.columns\n",
    "df_property.columns\n",
    "df_statements.columns"
   ]
  },
  {
   "cell_type": "code",
   "execution_count": 4,
   "id": "fdd84a68-5e61-4bf1-8d38-5fd69d260a1a",
   "metadata": {},
   "outputs": [
    {
     "data": {
      "text/plain": [
       "['item_id',\n",
       " 'en_label',\n",
       " 'en_description',\n",
       " 'en_alias',\n",
       " 'page_id',\n",
       " 'title',\n",
       " 'views']"
      ]
     },
     "execution_count": 4,
     "metadata": {},
     "output_type": "execute_result"
    }
   ],
   "source": [
    "# Соединение Датафреймов в один\n",
    "df = df_item.join(df_item_aliase, 'item_id')\n",
    "\n",
    "df = df.join(df_page, 'item_id')\n",
    "df.columns"
   ]
  },
  {
   "cell_type": "code",
   "execution_count": 5,
   "id": "13dd7429-dbf6-49dd-8222-14b52ea3716c",
   "metadata": {},
   "outputs": [
    {
     "data": {
      "text/plain": [
       "['property_id', 'en_alias_property']"
      ]
     },
     "execution_count": 5,
     "metadata": {},
     "output_type": "execute_result"
    },
    {
     "data": {
      "text/plain": [
       "['property_id', 'en_label_property', 'en_description_property']"
      ]
     },
     "execution_count": 5,
     "metadata": {},
     "output_type": "execute_result"
    }
   ],
   "source": [
    "# Переименование столбцов\n",
    "df_property_aliase = df_property_aliase.withColumnRenamed(\"en_alias\", \"en_alias_property\")\n",
    "\n",
    "df_property = df_property.withColumnRenamed(\"en_label\", \"en_label_property\")\n",
    "df_property = df_property.withColumnRenamed(\"en_description\", \"en_description_property\")\n",
    "\n",
    "# Вывод названий переименованных столбцов\n",
    "df_property_aliase.columns\n",
    "df_property.columns"
   ]
  },
  {
   "cell_type": "code",
   "execution_count": 6,
   "id": "839ce91c-381e-46a7-a20f-4421e0221765",
   "metadata": {},
   "outputs": [
    {
     "data": {
      "text/plain": [
       "['item_id',\n",
       " 'en_label',\n",
       " 'en_description',\n",
       " 'en_alias',\n",
       " 'page_id',\n",
       " 'title',\n",
       " 'views',\n",
       " 'source_item_id',\n",
       " 'edge_property_id',\n",
       " 'target_item_id',\n",
       " 'property_id',\n",
       " 'en_label_property',\n",
       " 'en_description_property',\n",
       " 'en_alias_property']"
      ]
     },
     "execution_count": 6,
     "metadata": {},
     "output_type": "execute_result"
    }
   ],
   "source": [
    "# Соединение Датафреймов в один\n",
    "df_property_and_aliase = df_property.join(df_property_aliase, 'property_id')\n",
    "df_statements_property = df_statements.join(df_property_and_aliase, df_statements.edge_property_id == df_property_and_aliase.property_id)\n",
    "df = df.join(df_statements_property, df.item_id == df_statements_property.source_item_id)\n",
    "df.columns"
   ]
  },
  {
   "cell_type": "code",
   "execution_count": 7,
   "id": "f7d87fed-3e2a-4d3b-a0e5-91c662b94699",
   "metadata": {},
   "outputs": [
    {
     "name": "stdout",
     "output_type": "stream",
     "text": [
      "Data overview\n",
      "root\n",
      " |-- item_id: integer (nullable = true)\n",
      " |-- en_label: string (nullable = true)\n",
      " |-- en_description: string (nullable = true)\n",
      " |-- en_alias: string (nullable = true)\n",
      " |-- page_id: integer (nullable = true)\n",
      " |-- title: string (nullable = true)\n",
      " |-- views: string (nullable = true)\n",
      " |-- edge_property_id: integer (nullable = true)\n",
      " |-- target_item_id: integer (nullable = true)\n",
      " |-- en_label_property: string (nullable = true)\n",
      " |-- en_description_property: string (nullable = true)\n",
      " |-- en_alias_property: string (nullable = true)\n",
      "\n",
      "Columns overview\n"
     ]
    },
    {
     "data": {
      "text/html": [
       "<div>\n",
       "<style scoped>\n",
       "    .dataframe tbody tr th:only-of-type {\n",
       "        vertical-align: middle;\n",
       "    }\n",
       "\n",
       "    .dataframe tbody tr th {\n",
       "        vertical-align: top;\n",
       "    }\n",
       "\n",
       "    .dataframe thead th {\n",
       "        text-align: right;\n",
       "    }\n",
       "</style>\n",
       "<table border=\"1\" class=\"dataframe\">\n",
       "  <thead>\n",
       "    <tr style=\"text-align: right;\">\n",
       "      <th></th>\n",
       "      <th>Column Name</th>\n",
       "      <th>Data type</th>\n",
       "    </tr>\n",
       "  </thead>\n",
       "  <tbody>\n",
       "    <tr>\n",
       "      <th>0</th>\n",
       "      <td>item_id</td>\n",
       "      <td>int</td>\n",
       "    </tr>\n",
       "    <tr>\n",
       "      <th>1</th>\n",
       "      <td>en_label</td>\n",
       "      <td>string</td>\n",
       "    </tr>\n",
       "    <tr>\n",
       "      <th>2</th>\n",
       "      <td>en_description</td>\n",
       "      <td>string</td>\n",
       "    </tr>\n",
       "    <tr>\n",
       "      <th>3</th>\n",
       "      <td>en_alias</td>\n",
       "      <td>string</td>\n",
       "    </tr>\n",
       "    <tr>\n",
       "      <th>4</th>\n",
       "      <td>page_id</td>\n",
       "      <td>int</td>\n",
       "    </tr>\n",
       "    <tr>\n",
       "      <th>5</th>\n",
       "      <td>title</td>\n",
       "      <td>string</td>\n",
       "    </tr>\n",
       "    <tr>\n",
       "      <th>6</th>\n",
       "      <td>views</td>\n",
       "      <td>string</td>\n",
       "    </tr>\n",
       "    <tr>\n",
       "      <th>7</th>\n",
       "      <td>edge_property_id</td>\n",
       "      <td>int</td>\n",
       "    </tr>\n",
       "    <tr>\n",
       "      <th>8</th>\n",
       "      <td>target_item_id</td>\n",
       "      <td>int</td>\n",
       "    </tr>\n",
       "    <tr>\n",
       "      <th>9</th>\n",
       "      <td>en_label_property</td>\n",
       "      <td>string</td>\n",
       "    </tr>\n",
       "    <tr>\n",
       "      <th>10</th>\n",
       "      <td>en_description_property</td>\n",
       "      <td>string</td>\n",
       "    </tr>\n",
       "    <tr>\n",
       "      <th>11</th>\n",
       "      <td>en_alias_property</td>\n",
       "      <td>string</td>\n",
       "    </tr>\n",
       "  </tbody>\n",
       "</table>\n",
       "</div>"
      ],
      "text/plain": [
       "                Column Name Data type\n",
       "0                   item_id       int\n",
       "1                  en_label    string\n",
       "2            en_description    string\n",
       "3                  en_alias    string\n",
       "4                   page_id       int\n",
       "5                     title    string\n",
       "6                     views    string\n",
       "7          edge_property_id       int\n",
       "8            target_item_id       int\n",
       "9         en_label_property    string\n",
       "10  en_description_property    string\n",
       "11        en_alias_property    string"
      ]
     },
     "execution_count": 7,
     "metadata": {},
     "output_type": "execute_result"
    }
   ],
   "source": [
    "df = df['item_id', 'en_label', 'en_description', 'en_alias', 'page_id', 'title', 'views', 'edge_property_id', 'target_item_id', 'en_label_property', 'en_description_property', 'en_alias_property']\n",
    "print('Data overview')\n",
    "df.printSchema()\n",
    "print('Columns overview')\n",
    "pd.DataFrame(df.dtypes, columns = ['Column Name','Data type'])"
   ]
  },
  {
   "cell_type": "code",
   "execution_count": 8,
   "id": "7eb3b112-84b0-4e46-a556-89d15dbd2106",
   "metadata": {},
   "outputs": [
    {
     "data": {
      "text/html": [
       "<div>\n",
       "<style scoped>\n",
       "    .dataframe tbody tr th:only-of-type {\n",
       "        vertical-align: middle;\n",
       "    }\n",
       "\n",
       "    .dataframe tbody tr th {\n",
       "        vertical-align: top;\n",
       "    }\n",
       "\n",
       "    .dataframe thead th {\n",
       "        text-align: right;\n",
       "    }\n",
       "</style>\n",
       "<table border=\"1\" class=\"dataframe\">\n",
       "  <thead>\n",
       "    <tr style=\"text-align: right;\">\n",
       "      <th></th>\n",
       "      <th>item_id</th>\n",
       "      <th>en_label</th>\n",
       "      <th>en_description</th>\n",
       "      <th>en_alias</th>\n",
       "      <th>page_id</th>\n",
       "      <th>title</th>\n",
       "      <th>views</th>\n",
       "      <th>edge_property_id</th>\n",
       "      <th>target_item_id</th>\n",
       "      <th>en_label_property</th>\n",
       "      <th>en_description_property</th>\n",
       "      <th>en_alias_property</th>\n",
       "    </tr>\n",
       "  </thead>\n",
       "  <tbody>\n",
       "    <tr>\n",
       "      <th>0</th>\n",
       "      <td>1</td>\n",
       "      <td>Universe</td>\n",
       "      <td>totality of space and all contents</td>\n",
       "      <td>cosmos</td>\n",
       "      <td>31880</td>\n",
       "      <td>Universe</td>\n",
       "      <td>37815</td>\n",
       "      <td>31</td>\n",
       "      <td>36906466</td>\n",
       "      <td>instance of</td>\n",
       "      <td>that class of which this subject is a particul...</td>\n",
       "      <td>type</td>\n",
       "    </tr>\n",
       "  </tbody>\n",
       "</table>\n",
       "</div>"
      ],
      "text/plain": [
       "   item_id  en_label                      en_description en_alias  page_id  \\\n",
       "0        1  Universe  totality of space and all contents   cosmos    31880   \n",
       "\n",
       "      title  views  edge_property_id  target_item_id en_label_property  \\\n",
       "0  Universe  37815                31        36906466       instance of   \n",
       "\n",
       "                             en_description_property en_alias_property  \n",
       "0  that class of which this subject is a particul...              type  "
      ]
     },
     "execution_count": 8,
     "metadata": {},
     "output_type": "execute_result"
    }
   ],
   "source": [
    "df.limit(1).toPandas()"
   ]
  },
  {
   "cell_type": "code",
   "execution_count": 9,
   "id": "07359db5-f585-420e-9565-cb4daab873f6",
   "metadata": {},
   "outputs": [],
   "source": [
    "df = df.withColumn(\"views\", df[\"views\"].cast(\"int\"))"
   ]
  },
  {
   "cell_type": "code",
   "execution_count": null,
   "id": "2b13d5c9-86f7-423a-837b-f5043b5a4063",
   "metadata": {},
   "outputs": [],
   "source": []
  },
  {
   "cell_type": "code",
   "execution_count": 12,
   "id": "8f3fb2f8-35fe-461f-9c43-8ebd6f20cbc8",
   "metadata": {},
   "outputs": [
    {
     "name": "stdout",
     "output_type": "stream",
     "text": [
      "+-------+--------+--------------------+-----------------+\n",
      "|item_id|en_label|      en_description|count_item_aliase|\n",
      "+-------+--------+--------------------+-----------------+\n",
      "|      1|Universe|totality of space...|                4|\n",
      "|      3|    life|matter capable of...|                1|\n",
      "|      5|   human|common name of Ho...|                5|\n",
      "|      4|   death|permanent cessati...|               20|\n",
      "+-------+--------+--------------------+-----------------+\n",
      "only showing top 4 rows\n",
      "\n"
     ]
    }
   ],
   "source": [
    "# Извлечем количесвто псевдонимов для каждого элемента\n",
    "df_item_with_aliase = df_item.join(df_item_aliase, 'item_id', 'left')\n",
    "df_count_aliase = df_item_with_aliase.groupBy('item_id').count().sort(desc('count'))\n",
    "df_item_with_aliase = df_item.join(df_count_aliase, 'item_id', 'left')\n",
    "df_item_with_aliase = df_item_with_aliase.withColumnRenamed('count', 'count_item_aliase')\n",
    "df_item_with_aliase.show(4)"
   ]
  },
  {
   "cell_type": "code",
   "execution_count": 13,
   "id": "3a7dadec-4b28-4587-82eb-c3e45eb91d00",
   "metadata": {},
   "outputs": [
    {
     "name": "stdout",
     "output_type": "stream",
     "text": [
      "+-------+-------------------+-----------------+---------------------+\n",
      "|item_id|           en_label|count_item_aliase|en_description_length|\n",
      "+-------+-------------------+-----------------+---------------------+\n",
      "| 282396|               Nyim|                1|                   18|\n",
      "|  86927|      Martin Rummel|                1|                   17|\n",
      "|    463|        Rhône-Alpes|                1|                   38|\n",
      "|  87120|Peter Stephan Jungk|                1|                   24|\n",
      "+-------+-------------------+-----------------+---------------------+\n",
      "only showing top 4 rows\n",
      "\n"
     ]
    }
   ],
   "source": [
    "# Подсчет длинны описания элемента\n",
    "df_item_with_aliase = df_item_with_aliase.withColumn(\"en_description_length\", functions.length(\"en_description\"))\n",
    "df_item_with_aliase = df_item_with_aliase.drop(df.en_description)\n",
    "df_item_with_aliase.sort('count_item_aliase').show(4)\n"
   ]
  },
  {
   "cell_type": "code",
   "execution_count": 14,
   "id": "755843d8-de35-4eb1-9c4e-59feff0edd68",
   "metadata": {},
   "outputs": [
    {
     "name": "stdout",
     "output_type": "stream",
     "text": [
      "+-----------+------------------+-----------------------+------------+\n",
      "|property_id| en_label_property|en_description_property|count_aliase|\n",
      "+-----------+------------------+-----------------------+------------+\n",
      "|          6|head of government|   head of the execu...|           9|\n",
      "|         16|    highway system|   system (or specif...|           6|\n",
      "|         15|         route map|   image of route ma...|          12|\n",
      "|         10|             video|   \"relevant video. ...|           4|\n",
      "+-----------+------------------+-----------------------+------------+\n",
      "only showing top 4 rows\n",
      "\n"
     ]
    }
   ],
   "source": [
    "# Извлечем количесвто псевдонимов для каждого свойства\n",
    "df_property_with_aliase = df_property.join(df_property_aliase, 'property_id', 'left')\n",
    "df_count_aliase_p = df_property_with_aliase.groupBy('property_id').count().sort(desc('count'))\n",
    "df_property_with_aliase = df_property.join(df_count_aliase_p, 'property_id', 'left')\n",
    "df_property_with_aliase = df_property_with_aliase.withColumnRenamed('count', 'count_aliase')\n",
    "df_property_with_aliase.show(4)"
   ]
  },
  {
   "cell_type": "code",
   "execution_count": 15,
   "id": "6c54bce6-5578-4424-a63f-74c55b2f9751",
   "metadata": {},
   "outputs": [
    {
     "name": "stdout",
     "output_type": "stream",
     "text": [
      "+-----------+--------------------+------------+------------------------------+\n",
      "|property_id|   en_label_property|count_aliase|en_description_property_length|\n",
      "+-----------+--------------------+------------+------------------------------+\n",
      "|       1959|Dutch Senate pers...|           1|                            58|\n",
      "|       2866|Hollandsche Molen ID|           1|                            59|\n",
      "|       2142|          box office|           1|                            40|\n",
      "|       1580|University of Bar...|           1|                            54|\n",
      "+-----------+--------------------+------------+------------------------------+\n",
      "only showing top 4 rows\n",
      "\n"
     ]
    }
   ],
   "source": [
    "# Подсчет длинны описания элемента\n",
    "df_property_with_aliase = df_property_with_aliase.withColumn(\"en_description_property_length\", functions.length(\"en_description_property\"))\n",
    "df_property_with_aliase = df_property_with_aliase.drop(df.en_description_property)\n",
    "df_property_with_aliase.sort('count_aliase').show(4)"
   ]
  },
  {
   "cell_type": "code",
   "execution_count": 34,
   "id": "1c3e85a8-a0d2-4037-84d1-3261074788f5",
   "metadata": {},
   "outputs": [
    {
     "name": "stdout",
     "output_type": "stream",
     "text": [
      "+--------+-------+--------------------+-----+---------+-----------------+---------------------+\n",
      "| item_id|page_id|               title|views| en_label|count_item_aliase|en_description_length|\n",
      "+--------+-------+--------------------+-----+---------+-----------------+---------------------+\n",
      "| 1081144| 230185|     Rafael Palmeiro| 1970|     NULL|             NULL|                 NULL|\n",
      "|16934454| 645655|This England (mag...|  186|     NULL|             NULL|                 NULL|\n",
      "|    6199|     12|           Anarchism|31335|anarchism|                1|                  108|\n",
      "|    9659|    290|                   A|25859|        A|                6|                   28|\n",
      "+--------+-------+--------------------+-----+---------+-----------------+---------------------+\n",
      "only showing top 4 rows\n",
      "\n"
     ]
    }
   ],
   "source": [
    "# Подсчет количества элементов и свойств на странице\n",
    "from pyspark.sql.functions import sum,avg,max,count\n",
    "\n",
    "df_page_with_item = df_page.join(df_item_with_aliase, 'item_id', 'left')\n",
    "#\n",
    "df_page_with_item.show(4)"
   ]
  },
  {
   "cell_type": "code",
   "execution_count": 46,
   "id": "26487238-cf55-401a-9b31-13512a0c659e",
   "metadata": {},
   "outputs": [
    {
     "name": "stdout",
     "output_type": "stream",
     "text": [
      "+--------------+-----------------+-------+-------+--------------------+------+--------------------+-----------------+---------------------+\n",
      "|target_item_id|count_source_item|item_id|page_id|               title| views|            en_label|count_item_aliase|en_description_length|\n",
      "+--------------+-----------------+-------+-------+--------------------+------+--------------------+-----------------+---------------------+\n",
      "|           148|              225|    148|   5405|               China|263504|People's Republic...|                8|                   18|\n",
      "|           833|              105|   NULL|   NULL|                NULL|  NULL|                NULL|             NULL|                 NULL|\n",
      "|         43527|                1|  43527| 152833|        Sitting Bull| 22312|        Sitting Bull|                3|                   41|\n",
      "|        196615|                1| 196615| 123468|Supreme Court of ...|  8176|Supreme Court of ...|                1|                   23|\n",
      "+--------------+-----------------+-------+-------+--------------------+------+--------------------+-----------------+---------------------+\n",
      "only showing top 4 rows\n",
      "\n"
     ]
    }
   ],
   "source": [
    "# Подсчет количества просмотров у \"целевых статьей\"\n",
    "df_target_item = df_statements.groupBy('target_item_id').agg(count('source_item_id'))\n",
    "df_target_item = df_target_item.withColumnRenamed('count(source_item_id)', 'count_source_item')\n",
    "\n",
    "df_target_item = df_target_item.join(df_page_with_item, df_target_item.target_item_id == df_page_with_item.item_id, 'left')\n",
    "df_target_item.show(4)"
   ]
  },
  {
   "cell_type": "code",
   "execution_count": 50,
   "id": "376a54c2-eeb1-4497-b3fd-0a20af7c5919",
   "metadata": {},
   "outputs": [
    {
     "name": "stdout",
     "output_type": "stream",
     "text": [
      "Data overview df_property_with_aliase\n",
      "root\n",
      " |-- property_id: integer (nullable = true)\n",
      " |-- en_label_property: string (nullable = true)\n",
      " |-- count_aliase: long (nullable = true)\n",
      " |-- en_description_property_length: integer (nullable = true)\n",
      "\n",
      "Columns overview df_property_with_aliase\n"
     ]
    },
    {
     "data": {
      "text/html": [
       "<div>\n",
       "<style scoped>\n",
       "    .dataframe tbody tr th:only-of-type {\n",
       "        vertical-align: middle;\n",
       "    }\n",
       "\n",
       "    .dataframe tbody tr th {\n",
       "        vertical-align: top;\n",
       "    }\n",
       "\n",
       "    .dataframe thead th {\n",
       "        text-align: right;\n",
       "    }\n",
       "</style>\n",
       "<table border=\"1\" class=\"dataframe\">\n",
       "  <thead>\n",
       "    <tr style=\"text-align: right;\">\n",
       "      <th></th>\n",
       "      <th>Column Name</th>\n",
       "      <th>Data type</th>\n",
       "    </tr>\n",
       "  </thead>\n",
       "  <tbody>\n",
       "    <tr>\n",
       "      <th>0</th>\n",
       "      <td>property_id</td>\n",
       "      <td>int</td>\n",
       "    </tr>\n",
       "    <tr>\n",
       "      <th>1</th>\n",
       "      <td>en_label_property</td>\n",
       "      <td>string</td>\n",
       "    </tr>\n",
       "    <tr>\n",
       "      <th>2</th>\n",
       "      <td>count_aliase</td>\n",
       "      <td>bigint</td>\n",
       "    </tr>\n",
       "    <tr>\n",
       "      <th>3</th>\n",
       "      <td>en_description_property_length</td>\n",
       "      <td>int</td>\n",
       "    </tr>\n",
       "  </tbody>\n",
       "</table>\n",
       "</div>"
      ],
      "text/plain": [
       "                      Column Name Data type\n",
       "0                     property_id       int\n",
       "1               en_label_property    string\n",
       "2                    count_aliase    bigint\n",
       "3  en_description_property_length       int"
      ]
     },
     "execution_count": 50,
     "metadata": {},
     "output_type": "execute_result"
    },
    {
     "name": "stdout",
     "output_type": "stream",
     "text": [
      "Data overview df_target_item\n",
      "root\n",
      " |-- target_item_id: integer (nullable = true)\n",
      " |-- count_source_item: long (nullable = false)\n",
      " |-- item_id: integer (nullable = true)\n",
      " |-- page_id: integer (nullable = true)\n",
      " |-- title: string (nullable = true)\n",
      " |-- views: string (nullable = true)\n",
      " |-- en_label: string (nullable = true)\n",
      " |-- count_item_aliase: long (nullable = true)\n",
      " |-- en_description_length: integer (nullable = true)\n",
      "\n",
      "Columns overview df_target_item\n"
     ]
    },
    {
     "data": {
      "text/html": [
       "<div>\n",
       "<style scoped>\n",
       "    .dataframe tbody tr th:only-of-type {\n",
       "        vertical-align: middle;\n",
       "    }\n",
       "\n",
       "    .dataframe tbody tr th {\n",
       "        vertical-align: top;\n",
       "    }\n",
       "\n",
       "    .dataframe thead th {\n",
       "        text-align: right;\n",
       "    }\n",
       "</style>\n",
       "<table border=\"1\" class=\"dataframe\">\n",
       "  <thead>\n",
       "    <tr style=\"text-align: right;\">\n",
       "      <th></th>\n",
       "      <th>Column Name</th>\n",
       "      <th>Data type</th>\n",
       "    </tr>\n",
       "  </thead>\n",
       "  <tbody>\n",
       "    <tr>\n",
       "      <th>0</th>\n",
       "      <td>target_item_id</td>\n",
       "      <td>int</td>\n",
       "    </tr>\n",
       "    <tr>\n",
       "      <th>1</th>\n",
       "      <td>count_source_item</td>\n",
       "      <td>bigint</td>\n",
       "    </tr>\n",
       "    <tr>\n",
       "      <th>2</th>\n",
       "      <td>item_id</td>\n",
       "      <td>int</td>\n",
       "    </tr>\n",
       "    <tr>\n",
       "      <th>3</th>\n",
       "      <td>page_id</td>\n",
       "      <td>int</td>\n",
       "    </tr>\n",
       "    <tr>\n",
       "      <th>4</th>\n",
       "      <td>title</td>\n",
       "      <td>string</td>\n",
       "    </tr>\n",
       "    <tr>\n",
       "      <th>5</th>\n",
       "      <td>views</td>\n",
       "      <td>string</td>\n",
       "    </tr>\n",
       "    <tr>\n",
       "      <th>6</th>\n",
       "      <td>en_label</td>\n",
       "      <td>string</td>\n",
       "    </tr>\n",
       "    <tr>\n",
       "      <th>7</th>\n",
       "      <td>count_item_aliase</td>\n",
       "      <td>bigint</td>\n",
       "    </tr>\n",
       "    <tr>\n",
       "      <th>8</th>\n",
       "      <td>en_description_length</td>\n",
       "      <td>int</td>\n",
       "    </tr>\n",
       "  </tbody>\n",
       "</table>\n",
       "</div>"
      ],
      "text/plain": [
       "             Column Name Data type\n",
       "0         target_item_id       int\n",
       "1      count_source_item    bigint\n",
       "2                item_id       int\n",
       "3                page_id       int\n",
       "4                  title    string\n",
       "5                  views    string\n",
       "6               en_label    string\n",
       "7      count_item_aliase    bigint\n",
       "8  en_description_length       int"
      ]
     },
     "execution_count": 50,
     "metadata": {},
     "output_type": "execute_result"
    }
   ],
   "source": [
    "# Сформированные датафреймы\n",
    "print('Data overview df_property_with_aliase')\n",
    "df_property_with_aliase.printSchema()\n",
    "print('Columns overview df_property_with_aliase')\n",
    "pd.DataFrame(df_property_with_aliase.dtypes, columns = ['Column Name','Data type'])\n",
    "\n",
    "print('Data overview df_target_item')\n",
    "df_target_item.printSchema()\n",
    "print('Columns overview df_target_item')\n",
    "pd.DataFrame(df_target_item.dtypes, columns = ['Column Name','Data type'])"
   ]
  },
  {
   "cell_type": "code",
   "execution_count": null,
   "id": "4fff0c89-58c1-44b3-82f6-e757a42aefce",
   "metadata": {},
   "outputs": [],
   "source": []
  },
  {
   "cell_type": "markdown",
   "id": "eff41d97-df16-45f8-ae45-3f387df4bf65",
   "metadata": {},
   "source": [
    "# **Обнаружение пропущенных значений и аномальных нулей** <a class=\"anchor\" id=\"3\"></a>"
   ]
  },
  {
   "cell_type": "code",
   "execution_count": null,
   "id": "6bac0b77-5ad7-467e-bea5-43c0fb3ab63b",
   "metadata": {},
   "outputs": [],
   "source": [
    "print('Columns overview')\n",
    "pd.DataFrame(df.dtypes, columns = ['Column Name','Data type'])"
   ]
  },
  {
   "cell_type": "code",
   "execution_count": null,
   "id": "b0fb652e-91d7-4a63-a3d7-00ff982a95ed",
   "metadata": {},
   "outputs": [],
   "source": [
    "string_columns = ['en_label', 'en_description', 'en_alias', 'title', 'en_label_property', 'en_description_property', 'en_alias_property']\n",
    "numeric_columns = ['item_id','page_id', 'views', 'target_item_id', 'edge_property_id']\n",
    "missing_values = {} \n",
    "for index, column in enumerate(df.columns):\n",
    "    if column in string_columns:\n",
    "        missing_count = df.filter(col(column).eqNullSafe(None) | col(column).isNull()).count()\n",
    "        missing_values.update({column:missing_count})\n",
    "    if column in numeric_columns:  # check zeroes, None, NaN\n",
    "        missing_count = df.where(col(column).isin([0,None,np.nan])).count()\n",
    "        missing_values.update({column:missing_count})\n",
    "        \n",
    "missing_df = pd.DataFrame.from_dict([missing_values])\n",
    "missing_df"
   ]
  },
  {
   "cell_type": "code",
   "execution_count": 52,
   "id": "589f6303-b728-4684-889e-b1f8699039e9",
   "metadata": {},
   "outputs": [
    {
     "name": "stdout",
     "output_type": "stream",
     "text": [
      "Empty_target_item_id: 0\n",
      "Empty_count_source_item: 0\n",
      "Empty_item_id: 106295\n",
      "Empty_page_id: 106295\n",
      "Empty_title: 106295\n",
      "Empty_views: 106295\n",
      "Empty_en_label: 116808\n",
      "Empty_count_item_aliase: 116807\n",
      "Empty_en_description_length: 116890\n"
     ]
    }
   ],
   "source": [
    "from pyspark.sql.functions import col, count, when\n",
    "\n",
    "# Создаем список с количеством пустых значений в каждой колонке\n",
    "empty_counts = [count(when(col(c).isNull() | (col(c) == \"\"), c)).alias(\"Empty_\" + c) for c in df_target_item.columns]\n",
    "\n",
    "# Создаем DataFrame с подсчетом пустых значений\n",
    "missing_data = df_target_item.agg(*empty_counts)\n",
    "\n",
    "# Преобразуем результат в список строк\n",
    "result_rows = missing_data.first().asDict()\n",
    "\n",
    "# Выводим результат в более читаемом формате\n",
    "for column, count in result_rows.items():\n",
    "    print(f\"{column}: {count}\")"
   ]
  },
  {
   "cell_type": "code",
   "execution_count": null,
   "id": "1992833d-a8ae-4f71-a5a2-c71906e8bc35",
   "metadata": {},
   "outputs": [],
   "source": []
  },
  {
   "cell_type": "code",
   "execution_count": null,
   "id": "8a135ddc-1210-4179-a4da-6e69a8b8abf5",
   "metadata": {},
   "outputs": [],
   "source": []
  }
 ],
 "metadata": {
  "kernelspec": {
   "display_name": "Python 3 (ipykernel)",
   "language": "python",
   "name": "python3"
  },
  "language_info": {
   "codemirror_mode": {
    "name": "ipython",
    "version": 3
   },
   "file_extension": ".py",
   "mimetype": "text/x-python",
   "name": "python",
   "nbconvert_exporter": "python",
   "pygments_lexer": "ipython3",
   "version": "3.11.6"
  }
 },
 "nbformat": 4,
 "nbformat_minor": 5
}
