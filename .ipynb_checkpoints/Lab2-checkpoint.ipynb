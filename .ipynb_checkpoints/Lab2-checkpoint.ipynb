{
 "cells": [
  {
   "cell_type": "code",
   "execution_count": 1,
   "id": "bc81ce84-5957-4013-8bbd-22263f5f8395",
   "metadata": {},
   "outputs": [],
   "source": [
    "# Import other modules not related to PySpark\n",
    "import os\n",
    "import sys\n",
    "import pandas as pd\n",
    "from pandas import DataFrame\n",
    "import numpy as np\n",
    "import matplotlib.pyplot as plt\n",
    "import matplotlib.ticker as mtick\n",
    "import matplotlib\n",
    "from mpl_toolkits.mplot3d import Axes3D\n",
    "import math\n",
    "from IPython.core.interactiveshell import InteractiveShell\n",
    "from datetime import *\n",
    "import statistics as stats\n",
    "import seaborn as sns\n",
    "# This helps auto print out the items without explixitly using 'print'\n",
    "InteractiveShell.ast_node_interactivity = \"all\" \n",
    "%matplotlib inline"
   ]
  },
  {
   "cell_type": "code",
   "execution_count": 2,
   "id": "1ea5bc3a-0d30-46b6-a17e-773660f08d25",
   "metadata": {},
   "outputs": [
    {
     "name": "stdout",
     "output_type": "stream",
     "text": [
      "Data frame type: <class 'pyspark.sql.dataframe.DataFrame'>\n"
     ]
    }
   ],
   "source": [
    "# Import PySpark related modules\n",
    "import pyspark\n",
    "from pyspark.rdd import RDD\n",
    "from pyspark.sql import Row\n",
    "from pyspark.sql import DataFrame\n",
    "from pyspark.sql import SparkSession\n",
    "from pyspark.sql import SQLContext\n",
    "from pyspark.sql import functions\n",
    "from pyspark.sql.functions import lit, desc, col, size, array_contains\\\n",
    ", isnan, udf, hour, array_min, array_max, countDistinct\n",
    "from pyspark.sql.types import *\n",
    "\n",
    "MAX_MEMORY = '4G'\n",
    "# Initialize a spark session.\n",
    "conf = pyspark.SparkConf().setMaster(\"local[*]\") \\\n",
    "        .set('spark.executor.heartbeatInterval', 10000) \\\n",
    "        .set('spark.network.timeout', 10000) \\\n",
    "        .set(\"spark.core.connection.ack.wait.timeout\", \"3600\") \\\n",
    "        .set(\"spark.executor.memory\", MAX_MEMORY) \\\n",
    "        .set(\"spark.driver.memory\", MAX_MEMORY)\n",
    "def init_spark():\n",
    "    spark = SparkSession \\\n",
    "        .builder \\\n",
    "        .appName(\"Pyspark guide\") \\\n",
    "        .config(conf=conf) \\\n",
    "        .getOrCreate()\n",
    "    return spark\n",
    "\n",
    "spark = init_spark()\n",
    "\n",
    "path = 'date/wiki/small/'\n",
    "\n",
    "filename_data_item = path + 'item.csv'\n",
    "filename_data_item_aliase = path + 'item_aliases.csv'\n",
    "filename_data_page = path + 'page.csv'\n",
    "filename_data_property_aliase = path + 'property_aliases.csv'\n",
    "filename_data_property = path + 'property.csv'\n",
    "filename_data_statements = path + 'statements.csv'\n",
    "\n",
    "# Load the main data set into pyspark data frame \n",
    "df_item = spark.read.csv(filename_data_item, header=True, sep=',', inferSchema=True)\n",
    "df_item_aliase = spark.read.csv(filename_data_item_aliase, header=True, sep=',', inferSchema=True)\n",
    "df_page = spark.read.csv(filename_data_page, header=True, sep=',', inferSchema=True)\n",
    "df_property_aliase = spark.read.csv(filename_data_property_aliase, header=True, sep=',', inferSchema=True)\n",
    "df_property = spark.read.csv(filename_data_property, header=True, sep=',', inferSchema=True)\n",
    "df_statements = spark.read.csv(filename_data_statements, header=True, sep=',', inferSchema=True)\n",
    "\n",
    "print('Data frame type: ' + str(type(df_item)))"
   ]
  },
  {
   "cell_type": "markdown",
   "id": "f623a53a-b75d-4360-8b14-fda967281865",
   "metadata": {},
   "source": [
    "# **Извлечение признаков. Подготовка датасета**"
   ]
  },
  {
   "cell_type": "code",
   "execution_count": 3,
   "id": "3b1984ab-6485-4cd9-8fe2-3dd84e3e444c",
   "metadata": {},
   "outputs": [
    {
     "data": {
      "text/plain": [
       "['item_id', 'en_label', 'en_description']"
      ]
     },
     "execution_count": 3,
     "metadata": {},
     "output_type": "execute_result"
    },
    {
     "data": {
      "text/plain": [
       "['item_id', 'en_alias']"
      ]
     },
     "execution_count": 3,
     "metadata": {},
     "output_type": "execute_result"
    },
    {
     "data": {
      "text/plain": [
       "['page_id', 'item_id', 'title', 'views']"
      ]
     },
     "execution_count": 3,
     "metadata": {},
     "output_type": "execute_result"
    },
    {
     "data": {
      "text/plain": [
       "['property_id', 'en_alias']"
      ]
     },
     "execution_count": 3,
     "metadata": {},
     "output_type": "execute_result"
    },
    {
     "data": {
      "text/plain": [
       "['property_id', 'en_label', 'en_description']"
      ]
     },
     "execution_count": 3,
     "metadata": {},
     "output_type": "execute_result"
    },
    {
     "data": {
      "text/plain": [
       "['source_item_id', 'edge_property_id', 'target_item_id']"
      ]
     },
     "execution_count": 3,
     "metadata": {},
     "output_type": "execute_result"
    }
   ],
   "source": [
    "# Получение столбцов всех Датафреймов\n",
    "df_item.columns\n",
    "df_item_aliase.columns\n",
    "df_page.columns\n",
    "df_property_aliase.columns\n",
    "df_property.columns\n",
    "df_statements.columns"
   ]
  },
  {
   "cell_type": "code",
   "execution_count": 4,
   "id": "f2c58371-c166-4c49-9a81-51456e3a9351",
   "metadata": {},
   "outputs": [
    {
     "name": "stdout",
     "output_type": "stream",
     "text": [
      "+-------+--------+--------------------+-----------------+\n",
      "|item_id|en_label|      en_description|count_item_aliase|\n",
      "+-------+--------+--------------------+-----------------+\n",
      "|      1|Universe|totality of space...|                4|\n",
      "|      3|    life|matter capable of...|                1|\n",
      "|      5|   human|common name of Ho...|                5|\n",
      "|      4|   death|permanent cessati...|               20|\n",
      "+-------+--------+--------------------+-----------------+\n",
      "only showing top 4 rows\n",
      "\n"
     ]
    }
   ],
   "source": [
    "# Извлечем количесвто псевдонимов для каждого элемента\n",
    "df_item_with_aliase = df_item.join(df_item_aliase, 'item_id', 'left')\n",
    "df_count_aliase = df_item_with_aliase.groupBy('item_id').count().sort(desc('count'))\n",
    "df_item_with_aliase = df_item.join(df_count_aliase, 'item_id', 'left')\n",
    "df_item_with_aliase = df_item_with_aliase.withColumnRenamed('count', 'count_item_aliase')\n",
    "df_item_with_aliase.show(4)"
   ]
  },
  {
   "cell_type": "code",
   "execution_count": 5,
   "id": "a303f405-cc4e-4fc2-9257-4273197a07ee",
   "metadata": {},
   "outputs": [
    {
     "data": {
      "text/plain": [
       "DataFrame[item_id: int, en_label: string, count_item_aliase: bigint, en_description_length: int]"
      ]
     },
     "execution_count": 5,
     "metadata": {},
     "output_type": "execute_result"
    },
    {
     "name": "stdout",
     "output_type": "stream",
     "text": [
      "+-------+--------+-----------------+---------------------+\n",
      "|item_id|en_label|count_item_aliase|en_description_length|\n",
      "+-------+--------+-----------------+---------------------+\n",
      "|      1|Universe|                4|                   34|\n",
      "|      3|    life|                1|                   72|\n",
      "|      5|   human|                5|                   68|\n",
      "|      4|   death|               20|                   38|\n",
      "+-------+--------+-----------------+---------------------+\n",
      "only showing top 4 rows\n",
      "\n"
     ]
    }
   ],
   "source": [
    "# Подсчет длинны описания элемента\n",
    "df_item_with_aliase = df_item_with_aliase.withColumn(\"en_description_length\", functions.length(\"en_description\"))\n",
    "df_item_with_aliase = df_item_with_aliase.drop(df_item_with_aliase.en_description)\n",
    "df_item_with_aliase.sort('count_item_aliase')\n",
    "df_item_with_aliase.show(4)\n"
   ]
  },
  {
   "cell_type": "code",
   "execution_count": 6,
   "id": "d30d512e-e532-42a4-b957-8d98c286cfd8",
   "metadata": {},
   "outputs": [
    {
     "name": "stdout",
     "output_type": "stream",
     "text": [
      "+-------+-----+\n",
      "|page_id|count|\n",
      "+-------+-----+\n",
      "|   6466|    1|\n",
      "|  12027|    1|\n",
      "| 182678|    1|\n",
      "|  67492|    1|\n",
      "+-------+-----+\n",
      "only showing top 4 rows\n",
      "\n",
      "+-------+-------+--------+-----+--------+-----------------+---------------------+\n",
      "|item_id|page_id|   title|views|en_label|count_item_aliase|en_description_length|\n",
      "+-------+-------+--------+-----+--------+-----------------+---------------------+\n",
      "|      1|  31880|Universe|37815|Universe|                4|                   34|\n",
      "|      3|  18393|    Life|21420|    life|                1|                   72|\n",
      "|      5| 682482|   Human|60142|   human|                5|                   68|\n",
      "|      4|   8221|   Death|25512|   death|               20|                   38|\n",
      "+-------+-------+--------+-----+--------+-----------------+---------------------+\n",
      "only showing top 4 rows\n",
      "\n"
     ]
    }
   ],
   "source": [
    "# Подсчет количества элементов и свойств на странице\n",
    "from pyspark.sql.functions import sum,avg,max,count\n",
    "df_page.groupBy('page_id').count().sort(desc('count')).show(4)\n",
    "\n",
    "df_page_with_item = df_page.join(df_item_with_aliase, 'item_id', 'left')\n",
    "\n",
    "df_page_with_item.show(4)"
   ]
  },
  {
   "cell_type": "code",
   "execution_count": 7,
   "id": "c945f609-a2cb-45a9-be55-7d6b60f060bb",
   "metadata": {},
   "outputs": [
    {
     "name": "stdout",
     "output_type": "stream",
     "text": [
      "+--------------+----------------------+-------+-------+------------+------+--------------------+-----------------+---------------------+\n",
      "|target_item_id|count_in_links_to_item|item_id|page_id|       title| views|            en_label|count_item_aliase|en_description_length|\n",
      "+--------------+----------------------+-------+-------+------------+------+--------------------+-----------------+---------------------+\n",
      "|           148|                   171|    148|   5405|       China|263504|People's Republic...|                8|                   18|\n",
      "|           833|                    98|    833|3607937|    Malaysia|106863|            Malaysia|                6|                   49|\n",
      "|         43527|                     1|  43527| 152833|Sitting Bull| 22312|        Sitting Bull|                3|                   41|\n",
      "|        196615|                     1|   NULL|   NULL|        NULL|  NULL|                NULL|             NULL|                 NULL|\n",
      "+--------------+----------------------+-------+-------+------------+------+--------------------+-----------------+---------------------+\n",
      "only showing top 4 rows\n",
      "\n"
     ]
    }
   ],
   "source": [
    "# Подсчет количества входящих ссылок к item\n",
    "df_target_item = df_statements.groupBy('target_item_id').agg(count('source_item_id'))\n",
    "df_target_item = df_target_item.withColumnRenamed('count(source_item_id)', 'count_in_links_to_item')\n",
    "\n",
    "df_target_item = df_target_item.join(df_page_with_item, df_target_item.target_item_id == df_page_with_item.item_id, 'left')\n",
    "\n",
    "df_target_item.show(4)"
   ]
  },
  {
   "cell_type": "code",
   "execution_count": 8,
   "id": "2cc5b034-3f60-4d14-96e3-95ad775f1ebe",
   "metadata": {},
   "outputs": [
    {
     "name": "stdout",
     "output_type": "stream",
     "text": [
      "+----------------------+-------+-------+------------+------+--------------------+-----------------+---------------------+-----------------------+\n",
      "|count_in_links_to_item|item_id|page_id|       title| views|            en_label|count_item_aliase|en_description_length|count_out_links_to_item|\n",
      "+----------------------+-------+-------+------------+------+--------------------+-----------------+---------------------+-----------------------+\n",
      "|                   171|    148|   5405|       China|263504|People's Republic...|                8|                   18|                    609|\n",
      "|                    98|    833|3607937|    Malaysia|106863|            Malaysia|                6|                   49|                    300|\n",
      "|                     1|  43527| 152833|Sitting Bull| 22312|        Sitting Bull|                3|                   41|                   NULL|\n",
      "|                     1|   NULL|   NULL|        NULL|  NULL|                NULL|             NULL|                 NULL|                   NULL|\n",
      "+----------------------+-------+-------+------------+------+--------------------+-----------------+---------------------+-----------------------+\n",
      "only showing top 4 rows\n",
      "\n"
     ]
    }
   ],
   "source": [
    "# Подсчет количества выходящих ссылок от item\n",
    "df_source_item = df_statements.groupBy('source_item_id').agg(count('target_item_id'))\n",
    "df_source_item = df_source_item.withColumnRenamed('count(target_item_id)', 'count_out_links_to_item')\n",
    "\n",
    "df_target_item = df_target_item.join(df_source_item, df_source_item.source_item_id == df_target_item.item_id, 'left')\n",
    "\n",
    "df_target_item = df_target_item.drop('target_item_id')\n",
    "df_target_item = df_target_item.drop('source_item_id')\n",
    "\n",
    "df_target_item.show(4)"
   ]
  },
  {
   "cell_type": "code",
   "execution_count": 9,
   "id": "b5ed00a3-0076-48e0-95e4-958d7fb4169a",
   "metadata": {},
   "outputs": [],
   "source": [
    "# Удаление столбцов, которые не будут использоваться в дальнейшем\n",
    "df_target_item = df_target_item.drop('item_id')\n",
    "df_target_item = df_target_item.drop('page_id')\n",
    "df_target_item = df_target_item.drop('title')\n",
    "df_target_item = df_target_item.drop('en_label')"
   ]
  },
  {
   "cell_type": "code",
   "execution_count": 10,
   "id": "dd40e08c-0933-4687-bba0-1fd1fc9f2ba1",
   "metadata": {},
   "outputs": [
    {
     "name": "stdout",
     "output_type": "stream",
     "text": [
      "+------+--------------------+-----------------+--------------------------------+\n",
      "| views|views_was_is_missing|count_item_aliase|count_item_aliase_was_is_missing|\n",
      "+------+--------------------+-----------------+--------------------------------+\n",
      "|263504|                   0|                8|                               0|\n",
      "|106863|                   0|                6|                               0|\n",
      "| 22312|                   0|                3|                               0|\n",
      "|  NULL|                   1|             NULL|                               1|\n",
      "+------+--------------------+-----------------+--------------------------------+\n",
      "only showing top 4 rows\n",
      "\n"
     ]
    }
   ],
   "source": [
    "from pyspark.sql.functions import col, count, when\n",
    "# Добавления бинарного признака для каждого существующего признака, обозначающего наличие значения в соответствующем признаке\n",
    "columns_with_missing_data = ['views', 'count_item_aliase', 'en_description_length', 'count_out_links_to_item']\n",
    "for column in columns_with_missing_data:\n",
    "    df_target_item = df_target_item.withColumn(column + \"_was_is_missing\", (when(col(column).isNull() | (col(column) == \"\"), 1).otherwise(0)) )\n",
    "df_target_item.select('views', 'views_was_is_missing', 'count_item_aliase', 'count_item_aliase_was_is_missing').show(4)"
   ]
  },
  {
   "cell_type": "code",
   "execution_count": 11,
   "id": "ddc6f0ed-ddc0-47eb-b01a-cef9920a8c97",
   "metadata": {},
   "outputs": [
    {
     "name": "stdout",
     "output_type": "stream",
     "text": [
      "+------+-----------------+---------------------+-----------------------+\n",
      "| views|count_item_aliase|en_description_length|count_out_links_to_item|\n",
      "+------+-----------------+---------------------+-----------------------+\n",
      "|263504|                8|                   18|                    609|\n",
      "|106863|                6|                   49|                    300|\n",
      "| 22312|                3|                   41|                     71|\n",
      "| 10409|                2|                   33|                     71|\n",
      "+------+-----------------+---------------------+-----------------------+\n",
      "only showing top 4 rows\n",
      "\n"
     ]
    }
   ],
   "source": [
    "from pyspark.ml.feature import Imputer\n",
    "\n",
    "# Initialize the Imputer\n",
    "imputer = Imputer(\n",
    "    inputCols= columns_with_missing_data, #specifying the input column names\n",
    "    outputCols=columns_with_missing_data, #specifying the output column names\n",
    "    strategy=\"mean\"                  # or \"median\" if you want to use the median value\n",
    ")\n",
    "model = imputer.fit(df_target_item)\n",
    "\n",
    "#Transform the dataset\n",
    "imputed_df = model.transform(df_target_item)\n",
    "\n",
    "imputed_df.select(columns_with_missing_data).show(4)"
   ]
  },
  {
   "cell_type": "code",
   "execution_count": 12,
   "id": "608be22b-d5a3-4e1d-84dc-08ec425feb90",
   "metadata": {},
   "outputs": [
    {
     "name": "stdout",
     "output_type": "stream",
     "text": [
      "Data overview df_target_item\n",
      "root\n",
      " |-- count_in_links_to_item: long (nullable = false)\n",
      " |-- views: integer (nullable = true)\n",
      " |-- count_item_aliase: long (nullable = true)\n",
      " |-- en_description_length: integer (nullable = true)\n",
      " |-- count_out_links_to_item: long (nullable = true)\n",
      " |-- views_was_is_missing: integer (nullable = false)\n",
      " |-- count_item_aliase_was_is_missing: integer (nullable = false)\n",
      " |-- en_description_length_was_is_missing: integer (nullable = false)\n",
      " |-- count_out_links_to_item_was_is_missing: integer (nullable = false)\n",
      "\n",
      "Columns overview df_target_item\n"
     ]
    },
    {
     "data": {
      "text/html": [
       "<div>\n",
       "<style scoped>\n",
       "    .dataframe tbody tr th:only-of-type {\n",
       "        vertical-align: middle;\n",
       "    }\n",
       "\n",
       "    .dataframe tbody tr th {\n",
       "        vertical-align: top;\n",
       "    }\n",
       "\n",
       "    .dataframe thead th {\n",
       "        text-align: right;\n",
       "    }\n",
       "</style>\n",
       "<table border=\"1\" class=\"dataframe\">\n",
       "  <thead>\n",
       "    <tr style=\"text-align: right;\">\n",
       "      <th></th>\n",
       "      <th>Column Name</th>\n",
       "      <th>Data type</th>\n",
       "    </tr>\n",
       "  </thead>\n",
       "  <tbody>\n",
       "    <tr>\n",
       "      <th>0</th>\n",
       "      <td>count_in_links_to_item</td>\n",
       "      <td>bigint</td>\n",
       "    </tr>\n",
       "    <tr>\n",
       "      <th>1</th>\n",
       "      <td>views</td>\n",
       "      <td>int</td>\n",
       "    </tr>\n",
       "    <tr>\n",
       "      <th>2</th>\n",
       "      <td>count_item_aliase</td>\n",
       "      <td>bigint</td>\n",
       "    </tr>\n",
       "    <tr>\n",
       "      <th>3</th>\n",
       "      <td>en_description_length</td>\n",
       "      <td>int</td>\n",
       "    </tr>\n",
       "    <tr>\n",
       "      <th>4</th>\n",
       "      <td>count_out_links_to_item</td>\n",
       "      <td>bigint</td>\n",
       "    </tr>\n",
       "    <tr>\n",
       "      <th>5</th>\n",
       "      <td>views_was_is_missing</td>\n",
       "      <td>int</td>\n",
       "    </tr>\n",
       "    <tr>\n",
       "      <th>6</th>\n",
       "      <td>count_item_aliase_was_is_missing</td>\n",
       "      <td>int</td>\n",
       "    </tr>\n",
       "    <tr>\n",
       "      <th>7</th>\n",
       "      <td>en_description_length_was_is_missing</td>\n",
       "      <td>int</td>\n",
       "    </tr>\n",
       "    <tr>\n",
       "      <th>8</th>\n",
       "      <td>count_out_links_to_item_was_is_missing</td>\n",
       "      <td>int</td>\n",
       "    </tr>\n",
       "  </tbody>\n",
       "</table>\n",
       "</div>"
      ],
      "text/plain": [
       "                              Column Name Data type\n",
       "0                  count_in_links_to_item    bigint\n",
       "1                                   views       int\n",
       "2                       count_item_aliase    bigint\n",
       "3                   en_description_length       int\n",
       "4                 count_out_links_to_item    bigint\n",
       "5                    views_was_is_missing       int\n",
       "6        count_item_aliase_was_is_missing       int\n",
       "7    en_description_length_was_is_missing       int\n",
       "8  count_out_links_to_item_was_is_missing       int"
      ]
     },
     "execution_count": 12,
     "metadata": {},
     "output_type": "execute_result"
    }
   ],
   "source": [
    "# Сформированные датафреймы\n",
    "print('Data overview df_target_item')\n",
    "df_target_item.printSchema()\n",
    "print('Columns overview df_target_item')\n",
    "pd.DataFrame(df_target_item.dtypes, columns = ['Column Name','Data type'])"
   ]
  },
  {
   "cell_type": "code",
   "execution_count": 13,
   "id": "3bf8dc90-6a03-4b08-ae2d-d700f153f544",
   "metadata": {},
   "outputs": [],
   "source": [
    "df_target_item = df_target_item.withColumn(\"views\",df_target_item.views.cast('int'))"
   ]
  },
  {
   "cell_type": "markdown",
   "id": "ea3974f0-7b59-4f03-837f-15f8797db080",
   "metadata": {},
   "source": [
    "# **Задача регрессии**\n",
    "## **Линейная регрессии**"
   ]
  },
  {
   "cell_type": "code",
   "execution_count": 14,
   "id": "b3000814-dc34-49b4-9b89-80a4c7bbbb25",
   "metadata": {},
   "outputs": [
    {
     "name": "stdout",
     "output_type": "stream",
     "text": [
      "+-----------------------+----------------------+--------------------+-----------------+---------------------+\n",
      "|count_out_links_to_item|count_in_links_to_item|views_was_is_missing|count_item_aliase|en_description_length|\n",
      "+-----------------------+----------------------+--------------------+-----------------+---------------------+\n",
      "|                    609|                   171|                   0|                8|                   18|\n",
      "|                    300|                    98|                   0|                6|                   49|\n",
      "|                     71|                     1|                   0|                3|                   41|\n",
      "|                     71|                     1|                   1|                2|                   33|\n",
      "+-----------------------+----------------------+--------------------+-----------------+---------------------+\n",
      "only showing top 4 rows\n",
      "\n"
     ]
    }
   ],
   "source": [
    "columns = ['count_out_links_to_item', 'count_in_links_to_item', 'views_was_is_missing', 'count_item_aliase', 'en_description_length']\n",
    "df_target = imputed_df.select(columns)\n",
    "df_target.show(4)"
   ]
  },
  {
   "cell_type": "code",
   "execution_count": 15,
   "id": "db3e6e56-8f8c-4f2f-9fe5-5963de10bd9e",
   "metadata": {},
   "outputs": [],
   "source": [
    "from pyspark.ml.regression import LinearRegression\n",
    "from pyspark.ml.feature import VectorAssembler\n",
    "from pyspark.ml.evaluation import RegressionEvaluator\n",
    "from pyspark.ml import Pipeline\n",
    "\n",
    "selected_columns = ['count_in_links_to_item', 'views_was_is_missing', 'count_item_aliase', 'en_description_length']\n",
    "data_subset = df_target.select(columns)\n",
    "# Создадим столбец features, который объединяет все признаки в один вектор\n",
    "assembler = VectorAssembler(inputCols=selected_columns, outputCol=\"features\")\n",
    " # = assembler.transform(df_target)\n",
    "#final_data = data_subset.select(\"features\", \"count_out_links_to_item\")\n",
    "\n",
    "train_data, test_data = data_subset.randomSplit([0.7, 0.3], seed=42)\n",
    "\n",
    "# Создание модели LinearRegression\n",
    "lr = LinearRegression(featuresCol=\"features\", labelCol=\"count_out_links_to_item\", predictionCol=\"predicted_count_out_links_to_item\")\n",
    "\n",
    "# Создание конвейера\n",
    "pipeline = Pipeline(stages=[assembler, lr])\n",
    "\n",
    "# Обучение модели на обучающей выборке\n",
    "lr_model = pipeline.fit(train_data)\n",
    "\n",
    "# Прогнозирование на тестовой выборке\n",
    "predictions = lr_model.transform(test_data)"
   ]
  },
  {
   "cell_type": "code",
   "execution_count": 16,
   "id": "1d500935-938c-445e-ac9e-9fe26dd19a03",
   "metadata": {},
   "outputs": [
    {
     "name": "stdout",
     "output_type": "stream",
     "text": [
      "Root Mean Squared Error (RMSE) on test data: 15.401\n",
      "R-squared (R2) on test data: 0.047\n"
     ]
    }
   ],
   "source": [
    "# Оценка качества модели\n",
    "evaluator = RegressionEvaluator(labelCol=\"count_out_links_to_item\", predictionCol=\"predicted_count_out_links_to_item\", metricName=\"rmse\")\n",
    "rmse = evaluator.evaluate(predictions)\n",
    "print(\"Root Mean Squared Error (RMSE) on test data: {:.3f}\".format(rmse))\n",
    "\n",
    "evaluator_r2 = RegressionEvaluator(labelCol=\"count_out_links_to_item\", predictionCol=\"predicted_count_out_links_to_item\", metricName=\"r2\")\n",
    "r2 = evaluator_r2.evaluate(predictions)\n",
    "print(\"R-squared (R2) on test data: {:.3f}\".format(r2))"
   ]
  },
  {
   "cell_type": "code",
   "execution_count": 17,
   "id": "87c99b10-1db8-408c-a60b-a31233b77490",
   "metadata": {},
   "outputs": [
    {
     "name": "stdout",
     "output_type": "stream",
     "text": [
      "+-----------------------+----------------------+--------------------+-----------------+---------------------+\n",
      "|count_out_links_to_item|count_in_links_to_item|views_was_is_missing|count_item_aliase|en_description_length|\n",
      "+-----------------------+----------------------+--------------------+-----------------+---------------------+\n",
      "|                      2|                     1|                   0|                1|                   20|\n",
      "|                      4|                     1|                   0|                1|                   37|\n",
      "+-----------------------+----------------------+--------------------+-----------------+---------------------+\n",
      "only showing top 2 rows\n",
      "\n"
     ]
    }
   ],
   "source": [
    "from pyspark.ml.tuning import CrossValidator, ParamGridBuilder\n",
    "\n",
    "\n",
    "# Определение сетки параметров для кросс-валидации\n",
    "param_grid = ParamGridBuilder() \\\n",
    "    .addGrid(lr.regParam, [0.1, 0.01]) \\\n",
    "    .addGrid(lr.elasticNetParam, [0.0, 0.5, 1.0]) \\\n",
    "    .build()\n",
    "\n",
    "\n",
    "# Создание объекта CrossValidator\n",
    "cv = CrossValidator(estimator=pipeline,\n",
    "                            estimatorParamMaps=param_grid,\n",
    "                            evaluator=evaluator,\n",
    "                            numFolds=4) \n",
    "train_data.show(2)\n",
    "\n",
    "# Обучение и подбор гиперпараметров\n",
    "cv_model = cv.fit(train_data)\n",
    "\n",
    "best_cv_model = cv_model.bestModel\n",
    "\n",
    "# Оценка производительности на тестовом наборе\n",
    "cv_prediction = best_cv_model.transform(test_data)"
   ]
  },
  {
   "cell_type": "code",
   "execution_count": 18,
   "id": "cc6fa85f-e962-465b-9080-63ba8f5db1f4",
   "metadata": {},
   "outputs": [
    {
     "name": "stdout",
     "output_type": "stream",
     "text": [
      "Root Mean Squared Error (RMSE) on test data: 15.400\n",
      "R-squared (R2) on test data: 0.048\n"
     ]
    }
   ],
   "source": [
    "# Оценка качества модели\n",
    "evaluator = RegressionEvaluator(labelCol=\"count_out_links_to_item\", predictionCol=\"predicted_count_out_links_to_item\", metricName=\"rmse\")\n",
    "rmse = evaluator.evaluate(cv_prediction)\n",
    "print(\"Root Mean Squared Error (RMSE) on test data: {:.3f}\".format(rmse))\n",
    "\n",
    "evaluator_r2 = RegressionEvaluator(labelCol=\"count_out_links_to_item\", predictionCol=\"predicted_count_out_links_to_item\", metricName=\"r2\")\n",
    "r2 = evaluator_r2.evaluate(cv_prediction)\n",
    "print(\"R-squared (R2) on test data: {:.3f}\".format(r2))"
   ]
  },
  {
   "cell_type": "markdown",
   "id": "7c394f8e-1f55-4792-9123-4a68431674a2",
   "metadata": {},
   "source": [
    "## **Градиентный бустинг**"
   ]
  },
  {
   "cell_type": "code",
   "execution_count": 19,
   "id": "31e767da-c38b-49fa-ba84-93eed822bf5b",
   "metadata": {},
   "outputs": [
    {
     "name": "stdout",
     "output_type": "stream",
     "text": [
      "+-----------------------+------------------+----------------------+--------------------+-----------------+---------------------+\n",
      "|count_out_links_to_item|        prediction|count_in_links_to_item|views_was_is_missing|count_item_aliase|en_description_length|\n",
      "+-----------------------+------------------+----------------------+--------------------+-----------------+---------------------+\n",
      "|                      4| 68.63910991340485|                     1|                   0|                1|                   39|\n",
      "|                      5| 67.76538811455913|                     1|                   0|                1|                   37|\n",
      "|                      5| 65.35985189853736|                     2|                   0|                1|                   29|\n",
      "|                      7| 69.18864115222257|                     1|                   0|                1|                   45|\n",
      "|                      8| 64.03236002839013|                     4|                   0|                1|                   63|\n",
      "|                      9| 68.67493628132837|                     1|                   0|                2|                   61|\n",
      "|                     10|  67.9842874521177|                     1|                   0|                3|                   36|\n",
      "|                     11|  64.9821481161612|                     4|                   0|                1|                   42|\n",
      "|                     13| 70.59233375938709|                     1|                   0|                3|                   18|\n",
      "|                     13| 66.21252968212704|                     3|                   0|                1|                   32|\n",
      "|                     14| 69.18864115222257|                     1|                   0|                1|                   44|\n",
      "|                     14| 66.21252968212704|                     3|                   0|                1|                   24|\n",
      "|                     14|  75.1273593753788|                    15|                   0|                2|                   33|\n",
      "|                     16| 68.76876888118552|                     1|                   0|                2|                   32|\n",
      "|                     18| 66.98389082628515|                     1|                   0|                6|                   72|\n",
      "|                     18|50.108351514493826|                    45|                   0|                3|                   42|\n",
      "|                     19| 66.47005377749971|                     2|                   0|                3|                    4|\n",
      "|                     27| 63.52146503696057|                     2|                   0|                1|                   38|\n",
      "|                     31| 63.03724550948419|                     4|                   0|                1|                   29|\n",
      "|                     32| 71.41291059038835|                    10|                   0|                4|                   29|\n",
      "+-----------------------+------------------+----------------------+--------------------+-----------------+---------------------+\n",
      "only showing top 20 rows\n",
      "\n"
     ]
    }
   ],
   "source": [
    "from pyspark.ml.tuning import ParamGridBuilder, CrossValidator\n",
    "from pyspark.ml.evaluation import RegressionEvaluator\n",
    "from pyspark.ml.regression import GBTRegressor\n",
    "from pyspark.ml.feature import VectorAssembler\n",
    "from pyspark.sql import SparkSession\n",
    "from pyspark.sql import functions as F\n",
    "\n",
    "# Выберем только нужные колонки\n",
    "selected_columns = ['count_out_links_to_item', 'count_in_links_to_item', 'views_was_is_missing', 'count_item_aliase', 'en_description_length']\n",
    "data_subset = df_target.select(selected_columns)\n",
    "\n",
    "# Создадим столбец features, который объединяет все признаки в один вектор\n",
    "assembler = VectorAssembler(inputCols=selected_columns[1:], outputCol=\"features\")\n",
    "data_subset = assembler.transform(data_subset)\n",
    "\n",
    "\n",
    "# Разделим данные на обучающую и тестовую выборки\n",
    "(training_data, test_data) = data_subset.randomSplit([0.8, 0.2], seed=42)\n",
    "\n",
    "# Инициализация модели GBTRegressor\n",
    "gbt = GBTRegressor(featuresCol=\"features\", labelCol=\"count_out_links_to_item\", seed=42)\n",
    "\n",
    "# Создадим сетку параметров для подбора\n",
    "param_grid = (ParamGridBuilder()\n",
    "              .addGrid(gbt.maxDepth, [5, 5])\n",
    "              .addGrid(gbt.maxIter, [10, 10])\n",
    "              .build())\n",
    "\n",
    "# Инициализация оценщика (evaluator)\n",
    "evaluator_mse = RegressionEvaluator(labelCol=\"count_out_links_to_item\", predictionCol=\"prediction\", metricName=\"mse\")\n",
    "\n",
    "# Инициализация кросс-валидации\n",
    "cross_val = CrossValidator(estimator=gbt, estimatorParamMaps=param_grid, evaluator=evaluator_mse, numFolds=3)\n",
    "\n",
    "# Обучение модели на обучающей выборке с кросс-валидацией\n",
    "cv_model = cross_val.fit(training_data)\n",
    "\n",
    "# Прогнозирование на тестовой выборке\n",
    "predictions = cv_model.transform(test_data)\n",
    "\n",
    "# Вывод предсказаний и выбранных признаков\n",
    "predictions.select(\"count_out_links_to_item\", \"prediction\", *selected_columns[1:]).show()\n"
   ]
  },
  {
   "cell_type": "code",
   "execution_count": 21,
   "id": "5964958d-7470-4aa3-8fa9-541932a7b49d",
   "metadata": {},
   "outputs": [
    {
     "name": "stdout",
     "output_type": "stream",
     "text": [
      "Root Mean Squared Error (RMSE) on test data: 17.904\n",
      "R-squared (R2) on test data: 0.046\n"
     ]
    }
   ],
   "source": [
    "# Оценка качества модели\n",
    "evaluator = RegressionEvaluator(labelCol=\"count_out_links_to_item\", predictionCol=\"prediction\", metricName=\"rmse\")\n",
    "rmse = evaluator.evaluate(predictions)\n",
    "print(\"Root Mean Squared Error (RMSE) on test data: {:.3f}\".format(rmse))\n",
    "\n",
    "evaluator_r2 = RegressionEvaluator(labelCol=\"count_out_links_to_item\", predictionCol=\"prediction\", metricName=\"r2\")\n",
    "r2 = evaluator_r2.evaluate(predictions)\n",
    "print(\"R-squared (R2) on test data: {:.3f}\".format(r2))"
   ]
  }
 ],
 "metadata": {
  "kernelspec": {
   "display_name": "Python 3 (ipykernel)",
   "language": "python",
   "name": "python3"
  },
  "language_info": {
   "codemirror_mode": {
    "name": "ipython",
    "version": 3
   },
   "file_extension": ".py",
   "mimetype": "text/x-python",
   "name": "python",
   "nbconvert_exporter": "python",
   "pygments_lexer": "ipython3",
   "version": "3.11.6"
  }
 },
 "nbformat": 4,
 "nbformat_minor": 5
}
