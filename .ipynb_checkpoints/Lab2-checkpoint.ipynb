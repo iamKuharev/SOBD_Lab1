{
 "cells": [
  {
   "cell_type": "code",
   "execution_count": 1,
   "id": "bc81ce84-5957-4013-8bbd-22263f5f8395",
   "metadata": {},
   "outputs": [],
   "source": [
    "# Import other modules not related to PySpark\n",
    "import os\n",
    "import sys\n",
    "import pandas as pd\n",
    "from pandas import DataFrame\n",
    "import numpy as np\n",
    "import matplotlib.pyplot as plt\n",
    "import matplotlib.ticker as mtick\n",
    "import matplotlib\n",
    "from mpl_toolkits.mplot3d import Axes3D\n",
    "import math\n",
    "from IPython.core.interactiveshell import InteractiveShell\n",
    "from datetime import *\n",
    "import statistics as stats\n",
    "import seaborn as sns\n",
    "# This helps auto print out the items without explixitly using 'print'\n",
    "InteractiveShell.ast_node_interactivity = \"all\" \n",
    "%matplotlib inline"
   ]
  },
  {
   "cell_type": "code",
   "execution_count": 2,
   "id": "1ea5bc3a-0d30-46b6-a17e-773660f08d25",
   "metadata": {},
   "outputs": [
    {
     "name": "stdout",
     "output_type": "stream",
     "text": [
      "+----------------------+------+-----------------+---------------------+-----------------------+--------------------+--------------------------------+------------------------------------+--------------------------------------+\n",
      "|count_in_links_to_item| views|count_item_aliase|en_description_length|count_out_links_to_item|views_was_is_missing|count_item_aliase_was_is_missing|en_description_length_was_is_missing|count_out_links_to_item_was_is_missing|\n",
      "+----------------------+------+-----------------+---------------------+-----------------------+--------------------+--------------------------------+------------------------------------+--------------------------------------+\n",
      "|                    18|163515|               21|                   45|                     58|                   0|                               0|                                   0|                                     0|\n",
      "|                    31| 42880|                2|                   54|                     61|                   0|                               0|                                   0|                                     0|\n",
      "|                   431|490557|               12|                   33|                    633|                   0|                               0|                                   0|                                     0|\n",
      "|                    34| 84615|                6|                   25|                    122|                   0|                               0|                                   0|                                     0|\n",
      "|                    46| 99148|               12|                   27|                    170|                   0|                               0|                                   0|                                     0|\n",
      "|                    90|121380|                5|                   26|                    220|                   0|                               0|                                   0|                                     0|\n",
      "|                     2| 16243|                3|                   27|                     48|                   0|                               0|                                   0|                                     0|\n",
      "|                   151|118506|                1|                   83|                     47|                   0|                               0|                                   0|                                     0|\n",
      "|                    20|229340|                7|                   74|                    150|                   0|                               0|                                   0|                                     0|\n",
      "|                     1| 50189|                1|                   55|                     66|                   0|                               0|                                   0|                                     0|\n",
      "|                     1| 86160|                1|                   70|                     19|                   0|                               0|                                   0|                                     0|\n",
      "|                     7| 31110|                4|                   45|                     36|                   0|                               0|                                   0|                                     0|\n",
      "|                     4|114886|                5|                   44|                     21|                   0|                               0|                                   0|                                     0|\n",
      "|                    62|108979|                7|                   24|                    180|                   0|                               0|                                   0|                                     0|\n",
      "|                    11| 10586|                2|                   13|                     17|                   0|                               0|                                   0|                                     0|\n",
      "|                     1| 45206|                1|                   23|                     17|                   0|                               0|                                   0|                                     0|\n",
      "|                    59| 96839|                2|                   34|                    129|                   0|                               0|                                   0|                                     0|\n",
      "|                     8|153026|                3|                   37|                    183|                   0|                               0|                                   0|                                     0|\n",
      "|                     4| 10202|                2|                   50|                     44|                   0|                               0|                                   0|                                     0|\n",
      "|                     4|  8064|                2|                   49|                     45|                   0|                               0|                                   0|                                     0|\n",
      "+----------------------+------+-----------------+---------------------+-----------------------+--------------------+--------------------------------+------------------------------------+--------------------------------------+\n",
      "only showing top 20 rows\n",
      "\n",
      "Data frame type: <class 'pyspark.sql.dataframe.DataFrame'>\n"
     ]
    }
   ],
   "source": [
    "# Import PySpark related modules\n",
    "import pyspark\n",
    "from pyspark.rdd import RDD\n",
    "from pyspark.sql import Row\n",
    "from pyspark.sql import DataFrame\n",
    "from pyspark.sql import SparkSession\n",
    "from pyspark.sql import SQLContext\n",
    "from pyspark.sql import functions\n",
    "from pyspark.sql.functions import lit, desc, col, size, array_contains\\\n",
    ", isnan, udf, hour, array_min, array_max, countDistinct\n",
    "from pyspark.sql.types import *\n",
    "\n",
    "MAX_MEMORY = '4G'\n",
    "# Initialize a spark session.\n",
    "conf = pyspark.SparkConf().setMaster(\"local[*]\") \\\n",
    "        .set('spark.executor.heartbeatInterval', 10000) \\\n",
    "        .set('spark.network.timeout', 10000) \\\n",
    "        .set(\"spark.core.connection.ack.wait.timeout\", \"3600\") \\\n",
    "        .set(\"spark.executor.memory\", MAX_MEMORY) \\\n",
    "        .set(\"spark.driver.memory\", MAX_MEMORY)\n",
    "def init_spark():\n",
    "    spark = SparkSession \\\n",
    "        .builder \\\n",
    "        .appName(\"Pyspark guide\") \\\n",
    "        .config(conf=conf) \\\n",
    "        .getOrCreate()\n",
    "    return spark\n",
    "\n",
    "spark = init_spark()\n",
    "\n",
    "df = spark.read.parquet('bar.parquet')\n",
    "df.show()\n",
    "\n",
    "print('Data frame type: ' + str(type(df)))"
   ]
  },
  {
   "cell_type": "markdown",
   "id": "ea3974f0-7b59-4f03-837f-15f8797db080",
   "metadata": {},
   "source": [
    "# **Задача регрессии**\n",
    "## **Линейная регрессии**"
   ]
  },
  {
   "cell_type": "code",
   "execution_count": 3,
   "id": "b3000814-dc34-49b4-9b89-80a4c7bbbb25",
   "metadata": {},
   "outputs": [
    {
     "name": "stdout",
     "output_type": "stream",
     "text": [
      "+-----------------------+----------------------+--------------------+-----------------+---------------------+\n",
      "|count_out_links_to_item|count_in_links_to_item|views_was_is_missing|count_item_aliase|en_description_length|\n",
      "+-----------------------+----------------------+--------------------+-----------------+---------------------+\n",
      "|                     58|                    18|                   0|               21|                   45|\n",
      "|                     61|                    31|                   0|                2|                   54|\n",
      "|                    633|                   431|                   0|               12|                   33|\n",
      "|                    122|                    34|                   0|                6|                   25|\n",
      "+-----------------------+----------------------+--------------------+-----------------+---------------------+\n",
      "only showing top 4 rows\n",
      "\n"
     ]
    }
   ],
   "source": [
    "columns = ['count_out_links_to_item', 'count_in_links_to_item', 'views_was_is_missing', 'count_item_aliase', 'en_description_length']\n",
    "df_target = df.select(columns)\n",
    "df_target.show(4)"
   ]
  },
  {
   "cell_type": "code",
   "execution_count": 4,
   "id": "db3e6e56-8f8c-4f2f-9fe5-5963de10bd9e",
   "metadata": {},
   "outputs": [
    {
     "name": "stdout",
     "output_type": "stream",
     "text": [
      "+-----------------------+----------------------+--------------------+-----------------+---------------------+------------------+--------------------+---------------------------------+\n",
      "|count_out_links_to_item|count_in_links_to_item|views_was_is_missing|count_item_aliase|en_description_length|          features|       norm_features|predicted_count_out_links_to_item|\n",
      "+-----------------------+----------------------+--------------------+-----------------+---------------------+------------------+--------------------+---------------------------------+\n",
      "|                      4|                     1|                   0|                1|                   27|[1.0,0.0,1.0,27.0]|[0.03448275862068...|                67.60023482007189|\n",
      "|                      5|                     2|                   0|                1|                   83|[2.0,0.0,1.0,83.0]|[0.02325581395348...|                66.85753131120306|\n",
      "|                      6|                     5|                   0|                7|                    5| [5.0,0.0,7.0,5.0]|[0.29411764705882...|                85.51487878557697|\n",
      "|                      7|                     1|                   0|                1|                   27|[1.0,0.0,1.0,27.0]|[0.03448275862068...|                67.60023482007189|\n",
      "|                      7|                     2|                   0|                3|                   52|[2.0,0.0,3.0,52.0]|[0.03508771929824...|                67.55762118506603|\n",
      "+-----------------------+----------------------+--------------------+-----------------+---------------------+------------------+--------------------+---------------------------------+\n",
      "only showing top 5 rows\n",
      "\n"
     ]
    }
   ],
   "source": [
    "from pyspark.ml.regression import LinearRegression\n",
    "from pyspark.ml.feature import Normalizer\n",
    "from pyspark.ml.feature import VectorAssembler\n",
    "from pyspark.ml.evaluation import RegressionEvaluator\n",
    "from pyspark.ml import Pipeline\n",
    "\n",
    "selected_columns = ['count_in_links_to_item', 'views_was_is_missing', 'count_item_aliase', 'en_description_length']\n",
    "data_subset = df_target.select(columns)\n",
    "# Создадим столбец features, который объединяет все признаки в один вектор\n",
    "assembler = VectorAssembler(inputCols=selected_columns, outputCol=\"features\")\n",
    " # = assembler.transform(df_target)\n",
    "#final_data = data_subset.select(\"features\", \"count_out_links_to_item\")\n",
    "\n",
    "train_data, test_data = data_subset.randomSplit([0.7, 0.3], seed=42)\n",
    "\n",
    "normalizer_link = Normalizer(inputCol='features', outputCol='norm_features', p=1.0)\n",
    "\n",
    "# Создание модели LinearRegression\n",
    "lr = LinearRegression(featuresCol=\"norm_features\", labelCol=\"count_out_links_to_item\", predictionCol=\"predicted_count_out_links_to_item\")\n",
    "\n",
    "# Создание конвейера\n",
    "pipeline = Pipeline(stages=[assembler, normalizer_link, lr])\n",
    "\n",
    "# Обучение модели на обучающей выборке\n",
    "lr_model = pipeline.fit(train_data)\n",
    "\n",
    "# Прогнозирование на тестовой выборке\n",
    "predictions = lr_model.transform(test_data)\n",
    "predictions.show(5)"
   ]
  },
  {
   "cell_type": "code",
   "execution_count": 5,
   "id": "1d500935-938c-445e-ac9e-9fe26dd19a03",
   "metadata": {},
   "outputs": [
    {
     "name": "stdout",
     "output_type": "stream",
     "text": [
      "Root Mean Squared Error (RMSE) on test data: 12.541\n",
      "R-squared (R2) on test data: 0.105\n"
     ]
    }
   ],
   "source": [
    "# Оценка качества модели\n",
    "evaluator = RegressionEvaluator(labelCol=\"count_out_links_to_item\", predictionCol=\"predicted_count_out_links_to_item\", metricName=\"rmse\")\n",
    "rmse = evaluator.evaluate(predictions)\n",
    "print(\"Root Mean Squared Error (RMSE) on test data: {:.3f}\".format(rmse))\n",
    "\n",
    "evaluator_r2 = RegressionEvaluator(labelCol=\"count_out_links_to_item\", predictionCol=\"predicted_count_out_links_to_item\", metricName=\"r2\")\n",
    "r2 = evaluator_r2.evaluate(predictions)\n",
    "print(\"R-squared (R2) on test data: {:.3f}\".format(r2))"
   ]
  },
  {
   "cell_type": "code",
   "execution_count": 6,
   "id": "87c99b10-1db8-408c-a60b-a31233b77490",
   "metadata": {},
   "outputs": [
    {
     "name": "stdout",
     "output_type": "stream",
     "text": [
      "+-----------------------+----------------------+--------------------+-----------------+---------------------+------------------+--------------------+---------------------------------+\n",
      "|count_out_links_to_item|count_in_links_to_item|views_was_is_missing|count_item_aliase|en_description_length|          features|       norm_features|predicted_count_out_links_to_item|\n",
      "+-----------------------+----------------------+--------------------+-----------------+---------------------+------------------+--------------------+---------------------------------+\n",
      "|                      4|                     1|                   0|                1|                   27|[1.0,0.0,1.0,27.0]|[0.03448275862068...|                67.85803511692474|\n",
      "|                      5|                     2|                   0|                1|                   83|[2.0,0.0,1.0,83.0]|[0.02325581395348...|                67.09626042576396|\n",
      "|                      6|                     5|                   0|                7|                    5| [5.0,0.0,7.0,5.0]|[0.29411764705882...|                85.86331656240215|\n",
      "|                      7|                     1|                   0|                1|                   27|[1.0,0.0,1.0,27.0]|[0.03448275862068...|                67.85803511692474|\n",
      "|                      7|                     2|                   0|                3|                   52|[2.0,0.0,3.0,52.0]|[0.03508771929824...|                67.85563900823665|\n",
      "|                      7|                     4|                   0|                1|                   27|[4.0,0.0,1.0,27.0]|[0.125,0.0,0.0312...|                74.48134920958918|\n",
      "|                      8|                     1|                   0|                1|                   20|[1.0,0.0,1.0,20.0]|[0.04545454545454...|                68.63167890723676|\n",
      "|                      9|                     1|                   0|                2|                   84|[1.0,0.0,2.0,84.0]|[0.01149425287356...|                 66.2075495878746|\n",
      "+-----------------------+----------------------+--------------------+-----------------+---------------------+------------------+--------------------+---------------------------------+\n",
      "only showing top 8 rows\n",
      "\n"
     ]
    }
   ],
   "source": [
    "from pyspark.ml.tuning import CrossValidator, ParamGridBuilder\n",
    "\n",
    "\n",
    "# Определение сетки параметров для кросс-валидации\n",
    "param_grid = ParamGridBuilder() \\\n",
    "    .addGrid(lr.regParam, [0.1, 0.01]) \\\n",
    "    .addGrid(lr.elasticNetParam, [0.0, 0.5, 1.0]) \\\n",
    "    .build()\n",
    "\n",
    "\n",
    "# Создание объекта CrossValidator\n",
    "cv = CrossValidator(estimator=pipeline,\n",
    "                            estimatorParamMaps=param_grid,\n",
    "                            evaluator=evaluator,\n",
    "                            numFolds=4) \n",
    "\n",
    "# Обучение и подбор гиперпараметров\n",
    "cv_model = cv.fit(train_data)\n",
    "\n",
    "best_cv_model = cv_model.bestModel\n",
    "\n",
    "# Оценка производительности на тестовом наборе\n",
    "cv_prediction = best_cv_model.transform(test_data)\n",
    "\n",
    "cv_prediction.show(8)"
   ]
  },
  {
   "cell_type": "code",
   "execution_count": 7,
   "id": "cc6fa85f-e962-465b-9080-63ba8f5db1f4",
   "metadata": {},
   "outputs": [
    {
     "name": "stdout",
     "output_type": "stream",
     "text": [
      "Root Mean Squared Error (RMSE) on test data: 12.549\n",
      "R-squared (R2) on test data: 0.103\n"
     ]
    }
   ],
   "source": [
    "# Оценка качества модели\n",
    "evaluator = RegressionEvaluator(labelCol=\"count_out_links_to_item\", predictionCol=\"predicted_count_out_links_to_item\", metricName=\"rmse\")\n",
    "rmse = evaluator.evaluate(cv_prediction)\n",
    "print(\"Root Mean Squared Error (RMSE) on test data: {:.3f}\".format(rmse))\n",
    "\n",
    "evaluator_r2 = RegressionEvaluator(labelCol=\"count_out_links_to_item\", predictionCol=\"predicted_count_out_links_to_item\", metricName=\"r2\")\n",
    "r2 = evaluator_r2.evaluate(cv_prediction)\n",
    "print(\"R-squared (R2) on test data: {:.3f}\".format(r2))"
   ]
  },
  {
   "cell_type": "markdown",
   "id": "7c394f8e-1f55-4792-9123-4a68431674a2",
   "metadata": {},
   "source": [
    "## **Градиентный бустинг**"
   ]
  },
  {
   "cell_type": "code",
   "execution_count": 13,
   "id": "31e767da-c38b-49fa-ba84-93eed822bf5b",
   "metadata": {},
   "outputs": [
    {
     "name": "stdout",
     "output_type": "stream",
     "text": [
      "+-------------------+----------+--------------------+\n",
      "|           features|prediction|views_was_is_missing|\n",
      "+-------------------+----------+--------------------+\n",
      "| [4.0,1.0,1.0,27.0]|       0.0|                   0|\n",
      "| [5.0,2.0,1.0,83.0]|       0.0|                   0|\n",
      "|  [6.0,5.0,7.0,5.0]|       0.0|                   0|\n",
      "| [7.0,1.0,1.0,27.0]|       0.0|                   0|\n",
      "| [7.0,2.0,3.0,52.0]|       0.0|                   0|\n",
      "| [7.0,4.0,1.0,27.0]|       0.0|                   0|\n",
      "| [8.0,1.0,1.0,20.0]|       0.0|                   0|\n",
      "| [9.0,1.0,2.0,84.0]|       0.0|                   0|\n",
      "| [9.0,6.0,1.0,54.0]|       0.0|                   0|\n",
      "|[10.0,1.0,3.0,55.0]|       0.0|                   0|\n",
      "+-------------------+----------+--------------------+\n",
      "only showing top 10 rows\n",
      "\n"
     ]
    }
   ],
   "source": [
    "from pyspark.ml.tuning import ParamGridBuilder, CrossValidator\n",
    "from pyspark.ml.evaluation import RegressionEvaluator\n",
    "from pyspark.ml.feature import VectorAssembler\n",
    "from pyspark.ml.classification import GBTClassifier\n",
    "from pyspark.ml.evaluation import MulticlassClassificationEvaluator\n",
    "from pyspark.sql import SparkSession\n",
    "from pyspark.sql import functions as F\n",
    "\n",
    "# Выберем только нужные колонки\n",
    "selected_columns = ['views_was_is_missing', 'count_out_links_to_item', 'count_in_links_to_item', 'count_item_aliase', 'en_description_length']\n",
    "data_subset = df_target.select(selected_columns)\n",
    "\n",
    "# Создадим столбец features, который объединяет все признаки в один вектор\n",
    "assembler = VectorAssembler(inputCols=selected_columns[1:], outputCol=\"features\")\n",
    "#data_subset = assembler.transform(data_subset)\n",
    "\n",
    "\n",
    "# Разделим данные на обучающую и тестовую выборки\n",
    "(training_data, test_data) = data_subset.randomSplit([0.7, 0.3], seed=42)\n",
    "\n",
    "# Инициализация модели GBTClassifier\n",
    "gbt = GBTClassifier(labelCol=\"views_was_is_missing\", featuresCol=\"features\", maxIter=10)\n",
    "\n",
    "# Инициализация оценщика (evaluator)\n",
    "evaluator = MulticlassClassificationEvaluator(labelCol=\"views_was_is_missing\", predictionCol=\"prediction\", metricName=\"accuracy\")\n",
    "\n",
    "# evaluator_mse = RegressionEvaluator(labelCol=\"count_out_links_to_item\", predictionCol=\"prediction\", metricName=\"mse\")\n",
    "\n",
    "# Создание конвейера\n",
    "pipeline = Pipeline(stages=[assembler, gbt])\n",
    "\n",
    "# Обучение модели на обучающей выборке\n",
    "gbt_model = pipeline.fit(training_data)\n",
    "\n",
    "prediction = gbt_model.transform(test_data)\n",
    "predicted = prediction.select(\"features\", \"prediction\", \"views_was_is_missing\")\n",
    "predicted.show(10)"
   ]
  },
  {
   "cell_type": "code",
   "execution_count": 18,
   "id": "dd132c2a-7637-407c-8207-2c3c6936de40",
   "metadata": {},
   "outputs": [
    {
     "name": "stdout",
     "output_type": "stream",
     "text": [
      "Аccuracy = 0.987486\n",
      "F1_sore = 0.987302\n"
     ]
    }
   ],
   "source": [
    "evaluator = MulticlassClassificationEvaluator(\n",
    "labelCol=\"views_was_is_missing\", predictionCol=\"prediction\", metricName=\"accuracy\")\n",
    "accuracy = evaluator.evaluate(predictions)\n",
    "print(\"Аccuracy = %g\" % accuracy)\n",
    "\n",
    "evaluator_f1 = MulticlassClassificationEvaluator(\n",
    "labelCol=\"views_was_is_missing\", predictionCol=\"prediction\", metricName=\"f1\")\n",
    "f1 = evaluator_f1.evaluate(predictions)\n",
    "print(\"F1_sore = %g\" % f1)"
   ]
  },
  {
   "cell_type": "code",
   "execution_count": null,
   "id": "e696ece6-3af8-4a1f-88ea-424658c270bf",
   "metadata": {},
   "outputs": [],
   "source": []
  },
  {
   "cell_type": "code",
   "execution_count": 20,
   "id": "15a58c79-7578-412b-a408-3b2160ebb3e4",
   "metadata": {},
   "outputs": [
    {
     "name": "stdout",
     "output_type": "stream",
     "text": [
      "+--------------------+----------+-----------------------+----------------------+-----------------+---------------------+\n",
      "|views_was_is_missing|prediction|count_out_links_to_item|count_in_links_to_item|count_item_aliase|en_description_length|\n",
      "+--------------------+----------+-----------------------+----------------------+-----------------+---------------------+\n",
      "|                   0|       0.0|                      4|                     1|                1|                   27|\n",
      "|                   0|       0.0|                      5|                     2|                1|                   83|\n",
      "|                   0|       0.0|                      6|                     5|                7|                    5|\n",
      "|                   0|       0.0|                      7|                     1|                1|                   27|\n",
      "|                   0|       0.0|                      7|                     2|                3|                   52|\n",
      "|                   0|       0.0|                      7|                     4|                1|                   27|\n",
      "|                   0|       0.0|                      8|                     1|                1|                   20|\n",
      "|                   0|       0.0|                      9|                     1|                2|                   84|\n",
      "|                   0|       0.0|                      9|                     6|                1|                   54|\n",
      "|                   0|       0.0|                     10|                     1|                3|                   55|\n",
      "|                   0|       0.0|                     10|                     1|                5|                   75|\n",
      "|                   0|       0.0|                     11|                     1|                1|                   38|\n",
      "|                   0|       0.0|                     11|                     1|                2|                   33|\n",
      "|                   0|       0.0|                     12|                     1|                1|                   23|\n",
      "|                   0|       0.0|                     12|                     1|                1|                   32|\n",
      "|                   0|       0.0|                     13|                     1|                2|                   70|\n",
      "|                   0|       0.0|                     13|                     1|                3|                   21|\n",
      "|                   0|       0.0|                     14|                     1|                4|                   22|\n",
      "|                   0|       0.0|                     15|                     3|                4|                   44|\n",
      "|                   0|       0.0|                     15|                     5|                1|                   27|\n",
      "+--------------------+----------+-----------------------+----------------------+-----------------+---------------------+\n",
      "only showing top 20 rows\n",
      "\n"
     ]
    }
   ],
   "source": [
    "# Создадим сетку параметров для подбора\n",
    "param_grid = (ParamGridBuilder()\n",
    "              .addGrid(gbt.maxDepth, [5, 5])\n",
    "              .addGrid(gbt.maxIter, [10, 10])\n",
    "              .build())\n",
    "\n",
    "# Инициализация кросс-валидации\n",
    "cross_val = CrossValidator(estimator=pipeline, \n",
    "                           estimatorParamMaps=param_grid, \n",
    "                           evaluator=evaluator, numFolds=3)\n",
    "\n",
    "# Обучение модели на обучающей выборке с кросс-валидацией\n",
    "cv_model = cross_val.fit(training_data)\n",
    "\n",
    "# Прогнозирование на тестовой выборке\n",
    "cv_predictions = cv_model.transform(test_data)\n",
    "\n",
    "# Вывод предсказаний и выбранных признаков\n",
    "cv_predictions.select(\"views_was_is_missing\", \"prediction\", *selected_columns[1:]).show()\n"
   ]
  },
  {
   "cell_type": "code",
   "execution_count": 23,
   "id": "5964958d-7470-4aa3-8fa9-541932a7b49d",
   "metadata": {},
   "outputs": [
    {
     "name": "stdout",
     "output_type": "stream",
     "text": [
      "Аccuracy = 0.987486\n",
      "F1_sore = 0.987302\n"
     ]
    }
   ],
   "source": [
    "evaluator = MulticlassClassificationEvaluator(\n",
    "labelCol=\"views_was_is_missing\", predictionCol=\"prediction\", metricName=\"accuracy\")\n",
    "accuracy = evaluator.evaluate(cv_predictions)\n",
    "print(\"Аccuracy = %g\" % accuracy)\n",
    "\n",
    "evaluator_f1 = MulticlassClassificationEvaluator(\n",
    "labelCol=\"views_was_is_missing\", predictionCol=\"prediction\", metricName=\"f1\")\n",
    "f1 = evaluator_f1.evaluate(cv_predictions)\n",
    "print(\"F1_sore = %g\" % f1)"
   ]
  }
 ],
 "metadata": {
  "kernelspec": {
   "display_name": "Python 3 (ipykernel)",
   "language": "python",
   "name": "python3"
  },
  "language_info": {
   "codemirror_mode": {
    "name": "ipython",
    "version": 3
   },
   "file_extension": ".py",
   "mimetype": "text/x-python",
   "name": "python",
   "nbconvert_exporter": "python",
   "pygments_lexer": "ipython3",
   "version": "3.11.6"
  }
 },
 "nbformat": 4,
 "nbformat_minor": 5
}
